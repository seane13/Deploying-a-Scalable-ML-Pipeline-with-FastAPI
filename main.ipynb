{
 "cells": [
  {
   "cell_type": "code",
   "execution_count": null,
   "id": "9a1273ad-31f6-4371-b294-eb0535adc9a1",
   "metadata": {},
   "outputs": [],
   "source": [
    "import os\n",
    "\n",
    "import pandas as pd\n",
    "from fastapi import FastAPI\n",
    "from pydantic import BaseModel, Field\n",
    "\n",
    "from ml.data import apply_label, process_data\n",
    "from ml.model import inference, load_model"
   ]
  },
  {
   "cell_type": "code",
   "execution_count": null,
   "id": "1f50dc7f-8049-4e88-8c23-6e9c68699451",
   "metadata": {},
   "outputs": [],
   "source": [
    "# DO NOT MODIFY\n",
    "class Data(BaseModel):\n",
    "    age: int = Field(..., example=37)\n",
    "    workclass: str = Field(..., example=\"Private\")\n",
    "    fnlgt: int = Field(..., example=178356)\n",
    "    education: str = Field(..., example=\"HS-grad\")\n",
    "    education_num: int = Field(..., example=10, alias=\"education-num\")\n",
    "    marital_status: str = Field(\n",
    "        ..., example=\"Married-civ-spouse\", alias=\"marital-status\"\n",
    "    )\n",
    "    occupation: str = Field(..., example=\"Prof-specialty\")\n",
    "    relationship: str = Field(..., example=\"Husband\")\n",
    "    race: str = Field(..., example=\"White\")\n",
    "    sex: str = Field(..., example=\"Male\")\n",
    "    capital_gain: int = Field(..., example=0, alias=\"capital-gain\")\n",
    "    capital_loss: int = Field(..., example=0, alias=\"capital-loss\")\n",
    "    hours_per_week: int = Field(..., example=40, alias=\"hours-per-week\")\n",
    "    native_country: str = Field(..., example=\"United-States\", alias=\"native-country\")\n"
   ]
  },
  {
   "cell_type": "code",
   "execution_count": null,
   "id": "235b5166-b267-48b1-8495-c5cd32186b7c",
   "metadata": {},
   "outputs": [],
   "source": [
    "path = None # TODO: enter the path for the saved encoder \n",
    "encoder = load_model(path)"
   ]
  },
  {
   "cell_type": "code",
   "execution_count": null,
   "id": "ce17cccd-1ff4-4ba5-8604-45073c1f2e59",
   "metadata": {},
   "outputs": [],
   "source": [
    "path = None # TODO: enter the path for the saved model \n",
    "model = load_model(path)"
   ]
  },
  {
   "cell_type": "code",
   "execution_count": null,
   "id": "40c44e36-a57e-45d1-ab47-c565101850fc",
   "metadata": {},
   "outputs": [],
   "source": [
    "# TODO: create a RESTful API using FastAPI\n",
    "app = None # your code here"
   ]
  },
  {
   "cell_type": "code",
   "execution_count": null,
   "id": "1c18f9bf-d44a-4e8e-923f-afe12ec1db9e",
   "metadata": {},
   "outputs": [],
   "source": [
    "# TODO: create a GET on the root giving a welcome message\n",
    "@app.get(\"/\")\n",
    "async def get_root():\n",
    "    \"\"\" Say hello!\"\"\"\n",
    "    # your code here\n",
    "    pass"
   ]
  },
  {
   "cell_type": "code",
   "execution_count": null,
   "id": "dc8fffbd-e404-4caf-a9c2-f3fa47263bd7",
   "metadata": {},
   "outputs": [],
   "source": [
    "# TODO: create a POST on a different path that does model inference\n",
    "@app.post(\"/data/\")\n",
    "async def post_inference(data: Data):\n",
    "    # DO NOT MODIFY: turn the Pydantic model into a dict.\n",
    "    data_dict = data.dict()\n",
    "    # DO NOT MODIFY: clean up the dict to turn it into a Pandas DataFrame.\n",
    "    # The data has names with hyphens and Python does not allow those as variable names.\n",
    "    # Here it uses the functionality of FastAPI/Pydantic/etc to deal with this.\n",
    "    data = {k.replace(\"_\", \"-\"): [v] for k, v in data_dict.items()}\n",
    "    data = pd.DataFrame.from_dict(data)\n",
    "\n",
    "    cat_features = [\n",
    "        \"workclass\",\n",
    "        \"education\",\n",
    "        \"marital-status\",\n",
    "        \"occupation\",\n",
    "        \"relationship\",\n",
    "        \"race\",\n",
    "        \"sex\",\n",
    "        \"native-country\",\n",
    "    ]\n",
    "    data_processed, _, _, _ = process_data(\n",
    "        # your code here\n",
    "        # use data as data input\n",
    "        # use training = False\n",
    "        # do not need to pass lb as input\n",
    "    )\n",
    "    _inference = None # your code here to predict the result using data_processed\n",
    "    return {\"result\": apply_label(_inference)}\n"
   ]
  },
  {
   "cell_type": "code",
   "execution_count": null,
   "id": "4e8bdcf8-c1d6-4788-99ec-41cd9095f144",
   "metadata": {},
   "outputs": [],
   "source": []
  },
  {
   "cell_type": "code",
   "execution_count": null,
   "id": "dde4023f-662c-406f-92a6-c2bfa4d4488f",
   "metadata": {},
   "outputs": [],
   "source": []
  },
  {
   "cell_type": "code",
   "execution_count": null,
   "id": "4a1b51f7-e186-4689-9322-2aeebe2074a7",
   "metadata": {},
   "outputs": [],
   "source": []
  },
  {
   "cell_type": "code",
   "execution_count": null,
   "id": "81309218-0167-4b94-894b-18e4736063cb",
   "metadata": {},
   "outputs": [],
   "source": []
  },
  {
   "cell_type": "code",
   "execution_count": null,
   "id": "8f7ec73c-ddc3-4be4-a731-a103c7af315a",
   "metadata": {},
   "outputs": [],
   "source": []
  }
 ],
 "metadata": {
  "kernelspec": {
   "display_name": "Python 3 (ipykernel)",
   "language": "python",
   "name": "python3"
  },
  "language_info": {
   "codemirror_mode": {
    "name": "ipython",
    "version": 3
   },
   "file_extension": ".py",
   "mimetype": "text/x-python",
   "name": "python",
   "nbconvert_exporter": "python",
   "pygments_lexer": "ipython3",
   "version": "3.11.8"
  }
 },
 "nbformat": 4,
 "nbformat_minor": 5
}
