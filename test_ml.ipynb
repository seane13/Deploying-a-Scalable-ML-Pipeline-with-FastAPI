{
 "cells": [
  {
   "cell_type": "code",
   "execution_count": null,
   "id": "e4130e84-a42b-480d-99ab-7836521d85f3",
   "metadata": {},
   "outputs": [],
   "source": [
    "import os\n",
    "import numpy as np\n",
    "import pandas as pd\n",
    "from sklearn.model_selection import train_test_split\n",
    "from sklearn.ensemble import RandomForestClassifier\n",
    "\n",
    "from ml.data import process_data\n",
    "from ml.model import (\n",
    "    train_model,\n",
    "    inference,\n",
    "    compute_model_metrics,\n",
    "    save_model,\n",
    "    load_model,\n",
    ")\n"
   ]
  },
  {
   "cell_type": "code",
   "execution_count": null,
   "id": "861d6280-77e9-4d26-8f3f-f0e082016a2a",
   "metadata": {},
   "outputs": [],
   "source": [
    "\n",
    "# constants exposed for tests\n",
    "LABEL = \"salary\"\n",
    "SEED = 42\n",
    "DATA_PATH = os.getenv(\"DATA_PATH\", \"data/census.csv\")\n",
    "CATEGORICAL_FEATURES = [\n",
    "    \"workclass\",\n",
    "    \"education\",\n",
    "    \"marital-status\",\n",
    "    \"occupation\",\n",
    "    \"relationship\",\n",
    "    \"race\",\n",
    "    \"sex\",\n",
    "    \"native-country\",\n",
    "]"
   ]
  },
  {
   "cell_type": "code",
   "execution_count": null,
   "id": "14ba6ee7-6734-4aa9-a722-a6f3d65a549e",
   "metadata": {},
   "outputs": [],
   "source": [
    "\n",
    "def _load_sample_df(n=2000, seed=SEED):\n",
    "    \"\"\"Load a small, stratified sample for fast, deterministic tests.\"\"\"\n",
    "    df = pd.read_csv(DATA_PATH)\n",
    "    if len(df) > n:\n",
    "        # Use stratified split instead of groupby.apply to avoid deprecation warnings\n",
    "        df, _ = train_test_split(df, train_size=n, stratify=df[LABEL], random_state=seed)\n",
    "    return df.reset_index(drop=True)\n"
   ]
  },
  {
   "cell_type": "code",
   "execution_count": null,
   "id": "12627f29-7589-4315-89f7-4e18ed6894fa",
   "metadata": {},
   "outputs": [],
   "source": [
    "\n",
    "def _fit_process_split(df):\n",
    "    \"\"\"Train/test split and processing using the project pipeline.\"\"\"\n",
    "    train_df, test_df = train_test_split(\n",
    "        df, test_size=0.2, random_state=SEED, stratify=df[LABEL]\n",
    "    )\n",
    "\n",
    "    # IMPORTANT: capture lb from training\n",
    "    X_train, y_train, encoder, lb = process_data(\n",
    "        train_df,\n",
    "        categorical_features=CATEGORICAL_FEATURES,\n",
    "        label=LABEL,\n",
    "        training=True,\n",
    "    )\n",
    "\n",
    "    # IMPORTANT: pass BOTH encoder and lb to the test call\n",
    "    X_test, y_test, _, _ = process_data(\n",
    "        test_df,\n",
    "        categorical_features=CATEGORICAL_FEATURES,\n",
    "        label=LABEL,\n",
    "        training=False,\n",
    "        encoder=encoder,\n",
    "        lb=lb,\n",
    "    )\n",
    "\n",
    "    # Fallback: if y_test is still object dtype, binarize it with the same lb\n",
    "    if getattr(y_test, \"dtype\", None) is not None and y_test.dtype == object:\n",
    "        y_test = lb.transform(np.array(y_test).reshape(-1, 1)).ravel()\n",
    "\n",
    "    return (X_train, y_train, X_test, y_test, encoder, test_df)\n"
   ]
  },
  {
   "cell_type": "code",
   "execution_count": null,
   "id": "25212472-1b27-4fc6-9a5f-ea30b93cfca1",
   "metadata": {},
   "outputs": [],
   "source": [
    "\n",
    "# 1) Algorithm check\n",
    "def test_model_algorithm_is_random_forest():\n",
    "    df = _load_sample_df(n=400)  # smaller for speed\n",
    "    X_train, y_train, *_ = _fit_process_split(df)\n",
    "    model = train_model(X_train, y_train)\n",
    "    assert isinstance(model, RandomForestClassifier), \"Expected RandomForestClassifier\"\n"
   ]
  },
  {
   "cell_type": "code",
   "execution_count": null,
   "id": "1e3a7023-a3d1-4df5-bbd9-feaee4e303e9",
   "metadata": {},
   "outputs": [],
   "source": [
    "# 2) Metrics within reasonable range\n",
    "def test_metrics_within_expected_range():\n",
    "    df = _load_sample_df(n=1200)\n",
    "    X_train, y_train, X_test, y_test, *_ = _fit_process_split(df)\n",
    "\n",
    "    model = train_model(X_train, y_train)\n",
    "    preds = inference(model, X_test)\n",
    "    precision, recall, f1 = compute_model_metrics(y_test, preds)\n",
    "\n",
    "    # metrics bounded in [0, 1]\n",
    "    assert 0.0 <= precision <= 1.0\n",
    "    assert 0.0 <= recall <= 1.0\n",
    "    assert 0.0 <= f1 <= 1.0\n",
    "\n",
    "    # sanity floor for this pipeline/dataset (tune if needed)\n",
    "    assert f1 >= 0.55, f\"F1 too low for this dataset/pipeline: {f1:.3f}\"\n"
   ]
  },
  {
   "cell_type": "code",
   "execution_count": null,
   "id": "db3016d7-37e1-42df-9562-9a2f82446326",
   "metadata": {},
   "outputs": [],
   "source": [
    "# 3) Inference shapes and label set\n",
    "def test_inference_shapes_and_labels():\n",
    "    df = _load_sample_df(n=600)\n",
    "    X_train, y_train, X_test, y_test, *_ = _fit_process_split(df)\n",
    "\n",
    "    model = train_model(X_train, y_train)\n",
    "    preds = inference(model, X_test)\n",
    "\n",
    "    assert isinstance(preds, np.ndarray)\n",
    "    assert preds.shape[0] == X_test.shape[0], \"Pred length must match X_test rows\"\n",
    "\n",
    "    # binary labels {0,1}\n",
    "    uniq = set(np.unique(preds))\n",
    "    assert uniq.issubset({0, 1}), f\"Unexpected labels: {uniq}\"\n"
   ]
  },
  {
   "cell_type": "code",
   "execution_count": null,
   "id": "f65ad182-e74a-4e7e-82e1-254e9bee1dbe",
   "metadata": {},
   "outputs": [],
   "source": [
    "# 4) Processed arrays are numeric with expected rank\n",
    "def test_processed_arrays_numeric_and_shaped():\n",
    "    df = _load_sample_df(n=400)\n",
    "    X_train, y_train, X_test, y_test, *_ = _fit_process_split(df)\n",
    "\n",
    "    # rank & dtype checks\n",
    "    assert X_train.ndim == 2 and X_test.ndim == 2\n",
    "    assert y_train.ndim == 1 and y_test.ndim == 1\n",
    "\n",
    "    assert X_train.shape[0] > 0 and X_train.shape[1] > 0\n",
    "    assert X_test.shape[0] > 0 and X_test.shape[1] == X_train.shape[1]\n",
    "\n",
    "    # numeric dtypes for features and labels\n",
    "    assert X_train.dtype.kind in (\"f\", \"i\", \"u\")\n",
    "    assert X_test.dtype.kind in (\"f\", \"i\", \"u\")\n",
    "    assert y_train.dtype.kind in (\"i\", \"u\")\n",
    "    assert y_test.dtype.kind in (\"i\", \"u\")\n"
   ]
  },
  {
   "cell_type": "code",
   "execution_count": null,
   "id": "e8ae9ae9-90e9-4f59-a6e2-476d57538ffa",
   "metadata": {},
   "outputs": [],
   "source": [
    "# 5) Save/load roundtrip preserves predictions\n",
    "def test_artifact_roundtrip_predictions_identical(tmp_path):\n",
    "    df = _load_sample_df(n=600)\n",
    "    X_train, y_train, X_test, y_test, *_ = _fit_process_split(df)\n",
    "\n",
    "    model = train_model(X_train, y_train)\n",
    "    preds_before = inference(model, X_test)\n",
    "\n",
    "    model_path = tmp_path / \"model.pkl\"\n",
    "    save_model(model, str(model_path))\n",
    "    loaded = load_model(str(model_path))\n",
    "    preds_after = inference(loaded, X_test)\n",
    "\n",
    "    assert np.array_equal(preds_before, preds_after), \"Predictions changed after reload\""
   ]
  },
  {
   "cell_type": "code",
   "execution_count": null,
   "id": "78cfcd7f-1943-45bc-83c4-a74e50b2dbde",
   "metadata": {},
   "outputs": [],
   "source": []
  },
  {
   "cell_type": "code",
   "execution_count": null,
   "id": "4d6cdea1-a8a7-4313-8cbf-d2b885979595",
   "metadata": {},
   "outputs": [],
   "source": []
  },
  {
   "cell_type": "code",
   "execution_count": null,
   "id": "8ad38e3b-d813-4336-a1c4-b8c1a2157eba",
   "metadata": {},
   "outputs": [],
   "source": []
  }
 ],
 "metadata": {
  "kernelspec": {
   "display_name": "Python 3 (ipykernel)",
   "language": "python",
   "name": "python3"
  },
  "language_info": {
   "codemirror_mode": {
    "name": "ipython",
    "version": 3
   },
   "file_extension": ".py",
   "mimetype": "text/x-python",
   "name": "python",
   "nbconvert_exporter": "python",
   "pygments_lexer": "ipython3",
   "version": "3.11.8"
  }
 },
 "nbformat": 4,
 "nbformat_minor": 5
}
