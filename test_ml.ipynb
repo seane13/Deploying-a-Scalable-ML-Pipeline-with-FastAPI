{
 "cells": [
  {
   "cell_type": "code",
   "execution_count": null,
   "id": "e4130e84-a42b-480d-99ab-7836521d85f3",
   "metadata": {},
   "outputs": [],
   "source": [
    "import pytest\n",
    "from fastapi.testclient import TestClient\n",
    "from main import app "
   ]
  },
  {
   "cell_type": "code",
   "execution_count": null,
   "id": "f6b7ba64-6475-4dca-98dd-2765803590a5",
   "metadata": {},
   "outputs": [],
   "source": [
    "client = TestClient(app)"
   ]
  },
  {
   "cell_type": "code",
   "execution_count": null,
   "id": "861d6280-77e9-4d26-8f3f-f0e082016a2a",
   "metadata": {},
   "outputs": [],
   "source": [
    "# TODO: implement the first test. Change the function name and input as needed\n",
    "def test_root_welcome_message():\n",
    "    \"\"\"\n",
    "    Test that the root endpoint returns the correct welcome message.\n",
    "    \"\"\"\n",
    "    response = client.get(\"/\")\n",
    "    assert response.status_code == 200\n",
    "    assert response.json() == {\"message\": \"Welcome to the Income Prediction API!\"}\n",
    "\n"
   ]
  },
  {
   "cell_type": "code",
   "execution_count": null,
   "id": "14ba6ee7-6734-4aa9-a722-a6f3d65a549e",
   "metadata": {},
   "outputs": [],
   "source": [
    "# TODO: implement the second test. Change the function name and input as needed\n",
    "def test_inference_valid_data():\n",
    "    \"\"\"\n",
    "    Test that the /data/ endpoint returns a result when given valid input data.\n",
    "    \"\"\"\n",
    "    data = {\n",
    "        \"age\": 37,\n",
    "        \"workclass\": \"Private\",\n",
    "        \"fnlgt\": 178356,\n",
    "        \"education\": \"HS-grad\",\n",
    "        \"education-num\": 10,\n",
    "        \"marital-status\": \"Married-civ-spouse\",\n",
    "        \"occupation\": \"Prof-specialty\",\n",
    "        \"relationship\": \"Husband\",\n",
    "        \"race\": \"White\",\n",
    "        \"sex\": \"Male\",\n",
    "        \"capital-gain\": 0,\n",
    "        \"capital-loss\": 0,\n",
    "        \"hours-per-week\": 40,\n",
    "        \"native-country\": \"United-States\",\n",
    "    }\n",
    "    response = client.post(\"/data/\", json=data)\n",
    "    assert response.status_code == 200\n",
    "    assert \"result\" in response.json()\n"
   ]
  },
  {
   "cell_type": "code",
   "execution_count": null,
   "id": "12627f29-7589-4315-89f7-4e18ed6894fa",
   "metadata": {},
   "outputs": [],
   "source": [
    "# TODO: implement the third test. Change the function name and input as needed\n",
    "def test_inference_invalid_data():\n",
    "    \"\"\"\n",
    "    Test that the /data/ endpoint returns a 422 error when given incomplete data.\n",
    "    \"\"\"\n",
    "    data = {\n",
    "        # Intentionally missing required fields, e.g., \"age\"\n",
    "        \"workclass\": \"Private\",\n",
    "        \"fnlgt\": 178356,\n",
    "        \"education\": \"HS-grad\",\n",
    "        \"education-num\": 10,\n",
    "        \"marital-status\": \"Married-civ-spouse\",\n",
    "        \"occupation\": \"Prof-specialty\",\n",
    "        \"relationship\": \"Husband\",\n",
    "        \"race\": \"White\",\n",
    "        \"sex\": \"Male\",\n",
    "        \"capital-gain\": 0,\n",
    "        \"capital-loss\": 0,\n",
    "        \"hours-per-week\": 40,\n",
    "        \"native-country\": \"United-States\",\n",
    "    }\n",
    "    response = client.post(\"/data/\", json=data)\n",
    "    assert response.status_code == 422\n"
   ]
  },
  {
   "cell_type": "code",
   "execution_count": null,
   "id": "25212472-1b27-4fc6-9a5f-ea30b93cfca1",
   "metadata": {},
   "outputs": [],
   "source": []
  },
  {
   "cell_type": "code",
   "execution_count": null,
   "id": "1e3a7023-a3d1-4df5-bbd9-feaee4e303e9",
   "metadata": {},
   "outputs": [],
   "source": []
  },
  {
   "cell_type": "code",
   "execution_count": null,
   "id": "db3016d7-37e1-42df-9562-9a2f82446326",
   "metadata": {},
   "outputs": [],
   "source": []
  },
  {
   "cell_type": "code",
   "execution_count": null,
   "id": "f65ad182-e74a-4e7e-82e1-254e9bee1dbe",
   "metadata": {},
   "outputs": [],
   "source": []
  },
  {
   "cell_type": "code",
   "execution_count": null,
   "id": "e8ae9ae9-90e9-4f59-a6e2-476d57538ffa",
   "metadata": {},
   "outputs": [],
   "source": []
  },
  {
   "cell_type": "code",
   "execution_count": null,
   "id": "78cfcd7f-1943-45bc-83c4-a74e50b2dbde",
   "metadata": {},
   "outputs": [],
   "source": []
  },
  {
   "cell_type": "code",
   "execution_count": null,
   "id": "4d6cdea1-a8a7-4313-8cbf-d2b885979595",
   "metadata": {},
   "outputs": [],
   "source": []
  },
  {
   "cell_type": "code",
   "execution_count": null,
   "id": "8ad38e3b-d813-4336-a1c4-b8c1a2157eba",
   "metadata": {},
   "outputs": [],
   "source": []
  }
 ],
 "metadata": {
  "kernelspec": {
   "display_name": "Python 3 (ipykernel)",
   "language": "python",
   "name": "python3"
  },
  "language_info": {
   "codemirror_mode": {
    "name": "ipython",
    "version": 3
   },
   "file_extension": ".py",
   "mimetype": "text/x-python",
   "name": "python",
   "nbconvert_exporter": "python",
   "pygments_lexer": "ipython3",
   "version": "3.11.8"
  }
 },
 "nbformat": 4,
 "nbformat_minor": 5
}
