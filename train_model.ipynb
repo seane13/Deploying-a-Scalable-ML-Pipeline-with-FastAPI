{
 "cells": [
  {
   "cell_type": "code",
   "execution_count": 1,
   "id": "972d4059-6722-44d0-b604-33b406fc9d2b",
   "metadata": {},
   "outputs": [
    {
     "ename": "ImportError",
     "evalue": "Unable to import required dependencies:\nnumpy: Error importing numpy: you should not try to import numpy from\n        its source directory; please exit the numpy source tree, and relaunch\n        your python interpreter from there.",
     "output_type": "error",
     "traceback": [
      "\u001b[0;31m---------------------------------------------------------------------------\u001b[0m",
      "\u001b[0;31mImportError\u001b[0m                               Traceback (most recent call last)",
      "Cell \u001b[0;32mIn[1], line 3\u001b[0m\n\u001b[1;32m      1\u001b[0m \u001b[38;5;28;01mimport\u001b[39;00m \u001b[38;5;21;01mos\u001b[39;00m\n\u001b[0;32m----> 3\u001b[0m \u001b[38;5;28;01mimport\u001b[39;00m \u001b[38;5;21;01mpandas\u001b[39;00m \u001b[38;5;28;01mas\u001b[39;00m \u001b[38;5;21;01mpd\u001b[39;00m\n\u001b[1;32m      4\u001b[0m \u001b[38;5;28;01mfrom\u001b[39;00m \u001b[38;5;21;01msklearn\u001b[39;00m\u001b[38;5;21;01m.\u001b[39;00m\u001b[38;5;21;01mmodel_selection\u001b[39;00m \u001b[38;5;28;01mimport\u001b[39;00m train_test_split\n\u001b[1;32m      6\u001b[0m \u001b[38;5;28;01mfrom\u001b[39;00m \u001b[38;5;21;01mml\u001b[39;00m\u001b[38;5;21;01m.\u001b[39;00m\u001b[38;5;21;01mdata\u001b[39;00m \u001b[38;5;28;01mimport\u001b[39;00m process_data\n",
      "File \u001b[0;32m~/opt/anaconda3/lib/python3.11/site-packages/pandas/__init__.py:16\u001b[0m\n\u001b[1;32m     13\u001b[0m         _missing_dependencies\u001b[38;5;241m.\u001b[39mappend(\u001b[38;5;124mf\u001b[39m\u001b[38;5;124m\"\u001b[39m\u001b[38;5;132;01m{\u001b[39;00m_dependency\u001b[38;5;132;01m}\u001b[39;00m\u001b[38;5;124m: \u001b[39m\u001b[38;5;132;01m{\u001b[39;00m_e\u001b[38;5;132;01m}\u001b[39;00m\u001b[38;5;124m\"\u001b[39m)\n\u001b[1;32m     15\u001b[0m \u001b[38;5;28;01mif\u001b[39;00m _missing_dependencies:  \u001b[38;5;66;03m# pragma: no cover\u001b[39;00m\n\u001b[0;32m---> 16\u001b[0m     \u001b[38;5;28;01mraise\u001b[39;00m \u001b[38;5;167;01mImportError\u001b[39;00m(\n\u001b[1;32m     17\u001b[0m         \u001b[38;5;124m\"\u001b[39m\u001b[38;5;124mUnable to import required dependencies:\u001b[39m\u001b[38;5;130;01m\\n\u001b[39;00m\u001b[38;5;124m\"\u001b[39m \u001b[38;5;241m+\u001b[39m \u001b[38;5;124m\"\u001b[39m\u001b[38;5;130;01m\\n\u001b[39;00m\u001b[38;5;124m\"\u001b[39m\u001b[38;5;241m.\u001b[39mjoin(_missing_dependencies)\n\u001b[1;32m     18\u001b[0m     )\n\u001b[1;32m     19\u001b[0m \u001b[38;5;28;01mdel\u001b[39;00m _hard_dependencies, _dependency, _missing_dependencies\n\u001b[1;32m     21\u001b[0m \u001b[38;5;28;01mtry\u001b[39;00m:\n\u001b[1;32m     22\u001b[0m     \u001b[38;5;66;03m# numpy compat\u001b[39;00m\n",
      "\u001b[0;31mImportError\u001b[0m: Unable to import required dependencies:\nnumpy: Error importing numpy: you should not try to import numpy from\n        its source directory; please exit the numpy source tree, and relaunch\n        your python interpreter from there."
     ]
    }
   ],
   "source": [
    "import os\n",
    "\n",
    "import pandas as pd\n",
    "from sklearn.model_selection import train_test_split\n",
    "\n",
    "from ml.data import process_data\n",
    "from ml.model import (\n",
    "    compute_model_metrics,\n",
    "    inference,\n",
    "    load_model,\n",
    "    performance_on_categorical_slice,\n",
    "    save_model,\n",
    "    train_model,\n",
    ")"
   ]
  },
  {
   "cell_type": "code",
   "execution_count": null,
   "id": "e7d30f97-6a31-4f09-bd0d-6f6988b03ae0",
   "metadata": {},
   "outputs": [],
   "source": [
    "# TODO: load the cencus.csv data\n",
    "project_path = \"Your path here\"\n",
    "data_path = os.path.join(project_path, \"data\", \"census.csv\")\n",
    "print(data_path)\n",
    "data = pd.read_csv(data_path)\n"
   ]
  },
  {
   "cell_type": "code",
   "execution_count": null,
   "id": "9f24b938-f05b-4277-8b52-d883fcc98f8e",
   "metadata": {},
   "outputs": [],
   "source": [
    "\n",
    "train, test = train_test_split(data, test_size=0.20, random_state=42)\n"
   ]
  },
  {
   "cell_type": "code",
   "execution_count": null,
   "id": "334e7c8e-e082-4b0a-8388-2349247bbf6f",
   "metadata": {},
   "outputs": [],
   "source": [
    "# DO NOT MODIFY\n",
    "cat_features = [\n",
    "    \"workclass\",\n",
    "    \"education\",\n",
    "    \"marital-status\",\n",
    "    \"occupation\",\n",
    "    \"relationship\",\n",
    "    \"race\",\n",
    "    \"sex\",\n",
    "    \"native-country\",\n",
    "]\n"
   ]
  },
  {
   "cell_type": "code",
   "execution_count": null,
   "id": "c7750516-ca12-42e9-95fd-26fa99c6b3c4",
   "metadata": {},
   "outputs": [],
   "source": [
    "\n",
    "X_train, y_train, encoder, lb = process_data(\n",
    "    train,\n",
    "    categorical_features=cat_features,\n",
    "    label=\"salary\",\n",
    "    training=True\n",
    "    )\n"
   ]
  },
  {
   "cell_type": "code",
   "execution_count": null,
   "id": "9fe48ba9-a7a7-4216-98fd-b83d4f16e1f3",
   "metadata": {},
   "outputs": [],
   "source": [
    "X_test, y_test, _, _ = process_data(\n",
    "    test,\n",
    "    categorical_features=cat_features,\n",
    "    label=\"salary\",\n",
    "    training=False,\n",
    "    encoder=encoder,\n",
    "    lb=lb,\n",
    ")"
   ]
  },
  {
   "cell_type": "code",
   "execution_count": null,
   "id": "47b55b93-bcd1-48eb-b956-8c370b78c0da",
   "metadata": {},
   "outputs": [],
   "source": [
    "\n",
    "model = train_model(X_train, y_train)"
   ]
  },
  {
   "cell_type": "code",
   "execution_count": null,
   "id": "ffd114f4-3172-42d6-96a6-49e73fa9b0ef",
   "metadata": {},
   "outputs": [],
   "source": [
    "# save the model and the encoder\n",
    "model_path = os.path.join(project_path, \"model\", \"model.pkl\")\n",
    "save_model(model, model_path)\n",
    "encoder_path = os.path.join(project_path, \"model\", \"encoder.pkl\")\n",
    "save_model(encoder, encoder_path)"
   ]
  },
  {
   "cell_type": "code",
   "execution_count": null,
   "id": "b8d5e0d8-46f7-4705-9183-78bd499c33e8",
   "metadata": {},
   "outputs": [],
   "source": [
    "# load the model\n",
    "model = load_model(\n",
    "    model_path\n",
    ")"
   ]
  },
  {
   "cell_type": "code",
   "execution_count": null,
   "id": "bdca5184-39be-485a-8785-12862a7628ac",
   "metadata": {},
   "outputs": [],
   "source": [
    "\n",
    "preds = inference(model, X_test)\n"
   ]
  },
  {
   "cell_type": "code",
   "execution_count": null,
   "id": "54fb5e97-5eae-4cb9-9d72-9262c050a4c1",
   "metadata": {},
   "outputs": [],
   "source": [
    "# Calculate and print the metrics\n",
    "p, r, fb = compute_model_metrics(y_test, preds)\n",
    "print(f\"Precision: {p:.4f} | Recall: {r:.4f} | F1: {fb:.4f}\")"
   ]
  },
  {
   "cell_type": "code",
   "execution_count": null,
   "id": "2aed2420-43f6-4656-9f62-7f2497c347ba",
   "metadata": {},
   "outputs": [],
   "source": [
    "\n",
    "for col in cat_features:\n",
    "    # iterate through the unique values in one categorical feature\n",
    "    for slicevalue in sorted(test[col].unique()):\n",
    "        count = test[test[col] == slicevalue].shape[0]\n",
    "        p, r, fb = performance_on_categorical_slice(\n",
    "            model,\n",
    "            test,\n",
    "            cat_features,\n",
    "            col,\n",
    "            slicevalue,\n",
    "            encoder,\n",
    "            lb\n",
    "        )\n",
    "        with open(\"slice_output.txt\", \"a\") as f:\n",
    "            print(f\"{col}: {slicevalue}, Count: {count:,}\", file=f)\n",
    "            print(f\"Precision: {p:.4f} | Recall: {r:.4f} | F1: {fb:.4f}\", file=f)"
   ]
  },
  {
   "cell_type": "code",
   "execution_count": null,
   "id": "00ede051-f54f-4ad3-b627-d921b1e7b08b",
   "metadata": {},
   "outputs": [],
   "source": []
  },
  {
   "cell_type": "code",
   "execution_count": null,
   "id": "a1ae9e51-1a11-445c-a094-ecaedb82ff21",
   "metadata": {},
   "outputs": [],
   "source": []
  }
 ],
 "metadata": {
  "kernelspec": {
   "display_name": "Python 3 (ipykernel)",
   "language": "python",
   "name": "python3"
  },
  "language_info": {
   "codemirror_mode": {
    "name": "ipython",
    "version": 3
   },
   "file_extension": ".py",
   "mimetype": "text/x-python",
   "name": "python",
   "nbconvert_exporter": "python",
   "pygments_lexer": "ipython3",
   "version": "3.11.8"
  }
 },
 "nbformat": 4,
 "nbformat_minor": 5
}
